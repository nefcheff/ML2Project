{
 "cells": [
  {
   "cell_type": "markdown",
   "metadata": {},
   "source": [
    "# Project structure\n",
    "## Introduction\n",
    "I have been programming most of the Code in Jupyter Notebooks on a Machine with the OS Windows 11 HOME in the IDE Visual Studio Code.\n",
    "As a processor I have an i7-1165G7 Processor and 16 GB of RAM. If you have similar environment you should not have any issues to get my Project running.\n",
    " \n",
    "You can run every Jupyter Notebook locally if you are following these instructions:\n",
    "Create .venv with Python 3.10.11 and the given requirements.txt file. \n",
    "Use the .venv as a kernel the Jupyter Notebook.\n",
    "\n",
    "Not all Jupyter Notebooks are designed to run on Google Colab. More Details concerning the environment for each Notebook can be found in the Individual Notebooks.\n",
    "\n",
    "\n",
    "## Notebook sequence\n",
    "\n",
    "The project consists of two notebooks and a .py file, which must be executed in the following order. Follow the Links below and the instructions in the Notebook and you should not have any issues with my Project.\n",
    "\n",
    "\n",
    "\n",
    "### 1. [Dataset](ReorganizeDataset.ipynb)\n",
    "In the Notebook Dataset the download and Handling of the Dataset is described.\n",
    "\n",
    "### 2. [Model](MyCnnModel.ipynb)\n",
    "In the Notebook Model the model training and validation takes place.\n",
    "\n",
    "### 3. [Application](backend/app.py)\n",
    "With the Application you can interact and test my best performing module."
   ]
  }
 ],
 "metadata": {
  "language_info": {
   "name": "python"
  }
 },
 "nbformat": 4,
 "nbformat_minor": 2
}
