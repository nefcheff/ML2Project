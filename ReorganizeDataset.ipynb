{
 "cells": [
  {
   "cell_type": "markdown",
   "metadata": {},
   "source": [
    "# About the Dataset\n",
    "\n",
    "Imports for the following notebook"
   ]
  },
  {
   "cell_type": "code",
   "execution_count": 1,
   "metadata": {},
   "outputs": [],
   "source": [
    "import os\n",
    "import shutil"
   ]
  },
  {
   "cell_type": "markdown",
   "metadata": {},
   "source": [
    "The Dataset is from [OSF](https://osf.io/s6ru5/files/osfstorage#) from where I downloaded only the folder “Dataset_Original” from the folder “CD&S”. The download may take a while as it is a large file.\n",
    "\n",
    "Once you have downloaded the folder and moved it to your working directory, you can unzip it. The following code gives you an overview of the contents of the file. Tip do not delete the zip file.\n",
    "\n",
    "Make sure the path to the Dataset is set correctly."
   ]
  },
  {
   "cell_type": "code",
   "execution_count": 13,
   "metadata": {},
   "outputs": [
    {
     "name": "stdout",
     "output_type": "stream",
     "text": [
      "Folder Structure:\n",
      "../ML2Project/Dataset_Original:\n",
      "\n",
      "Image Summary:\n",
      "../ML2Project/Dataset_Original\\test\\gls contains 261 images\n",
      "../ML2Project/Dataset_Original\\test\\nlb contains 248 images\n",
      "../ML2Project/Dataset_Original\\test\\nls contains 276 images\n",
      "../ML2Project/Dataset_Original\\train\\gls contains 262 images\n",
      "../ML2Project/Dataset_Original\\train\\nlb contains 249 images\n",
      "../ML2Project/Dataset_Original\\train\\nls contains 275 images\n"
     ]
    }
   ],
   "source": [
    "base_folder = '../ML2Project/Dataset_Original'  # Adjust this Path if not in the same Working directory\n",
    "\n",
    "import os\n",
    "\n",
    "def list_folder_structure(base_folder):\n",
    "    structure = {}\n",
    "    for root, dirs, files in os.walk(base_folder):\n",
    "        level = root.replace(base_folder, '').count(os.sep)\n",
    "        indent = ' ' * 4 * (level)\n",
    "        subindent = ' ' * 4 * (level + 1)\n",
    "        if level == 0:\n",
    "            structure[root] = {}\n",
    "            current_level = structure[root]\n",
    "        elif level == 1:\n",
    "            parent_folder = os.path.basename(root)\n",
    "            structure[base_folder][parent_folder] = {}\n",
    "            current_level = structure[base_folder][parent_folder]\n",
    "        elif level == 2:\n",
    "            grandparent_folder = os.path.basename(os.path.dirname(root))\n",
    "            parent_folder = os.path.basename(root)\n",
    "            structure[base_folder][grandparent_folder][parent_folder] = files\n",
    "    return structure\n",
    "\n",
    "def count_images_in_folder(folder):\n",
    "    image_extensions = ('.jpg')\n",
    "    return len([f for f in os.listdir(folder) if f.lower().endswith(image_extensions)])\n",
    "\n",
    "def summarize_image_counts(base_folder):\n",
    "    summary = {}\n",
    "    for root, dirs, files in os.walk(base_folder):\n",
    "        level = root.replace(base_folder, '').count(os.sep)\n",
    "        if level == 2:  # We're at the lowest level\n",
    "            image_count = count_images_in_folder(root)\n",
    "            summary[root] = image_count\n",
    "    return summary\n",
    "\n",
    "def main(base_folder):\n",
    "    structure = list_folder_structure(base_folder)\n",
    "    summary = summarize_image_counts(base_folder)\n",
    "    \n",
    "    print(\"Folder Structure:\")\n",
    "    for key, value in structure.items():\n",
    "        print(f\"{key}:\")\n",
    "    \n",
    "    print(\"\\nImage Summary:\")\n",
    "    for key, value in summary.items():\n",
    "        print(f\"{key} contains {value} images\")\n",
    "\n",
    "main(base_folder)"
   ]
  },
  {
   "cell_type": "markdown",
   "metadata": {},
   "source": [
    "# Reorganize Dataset\n",
    "\n",
    "The whole data set is not optimally divided for the application with a split of 50% training data and 50% test data. I have decided to reduce the test data set by 50% and to make the images that are removed from the test data set available to the training data set. For this reason I have defined the following script, which is used to restructure the data set.\n",
    "\n",
    "**EXECUTE THE FOLLOWING CODE ONLY ONCE!**\n",
    "\n",
    "If you were to run the following code more than once, the test data set would not have enough data. The target distribution is about 3/4 training and 1/4 test data.\n",
    "\n",
    "The paths of the folders are defined first and the script to move every second image is executed for each pair of folders.\n",
    "\n",
    "*Do not forget to change the path if it is not the same path for you.*"
   ]
  },
  {
   "cell_type": "code",
   "execution_count": 15,
   "metadata": {},
   "outputs": [
    {
     "name": "stdout",
     "output_type": "stream",
     "text": [
      "Processing folder pair: ../ML2Project/Dataset_Original/test/gls -> ../ML2Project/Dataset_Original/train/gls\n",
      "Before: ../ML2Project/Dataset_Original/test/gls contains 261 items.\n",
      "Before: ../ML2Project/Dataset_Original/train/gls contains 262 items.\n",
      "After: ../ML2Project/Dataset_Original/test/gls contains 131 items.\n",
      "After: ../ML2Project/Dataset_Original/train/gls contains 392 items.\n",
      "Finished processing folder pair: ../ML2Project/Dataset_Original/test/gls -> ../ML2Project/Dataset_Original/train/gls\n",
      "Processing folder pair: ../ML2Project/Dataset_Original/test/nlb -> ../ML2Project/Dataset_Original/train/nlb\n",
      "Before: ../ML2Project/Dataset_Original/test/nlb contains 248 items.\n",
      "Before: ../ML2Project/Dataset_Original/train/nlb contains 249 items.\n",
      "After: ../ML2Project/Dataset_Original/test/nlb contains 124 items.\n",
      "After: ../ML2Project/Dataset_Original/train/nlb contains 373 items.\n",
      "Finished processing folder pair: ../ML2Project/Dataset_Original/test/nlb -> ../ML2Project/Dataset_Original/train/nlb\n",
      "Processing folder pair: ../ML2Project/Dataset_Original/test/nls -> ../ML2Project/Dataset_Original/train/nls\n",
      "Before: ../ML2Project/Dataset_Original/test/nls contains 276 items.\n",
      "Before: ../ML2Project/Dataset_Original/train/nls contains 275 items.\n",
      "After: ../ML2Project/Dataset_Original/test/nls contains 138 items.\n",
      "After: ../ML2Project/Dataset_Original/train/nls contains 413 items.\n",
      "Finished processing folder pair: ../ML2Project/Dataset_Original/test/nls -> ../ML2Project/Dataset_Original/train/nls\n"
     ]
    }
   ],
   "source": [
    "# Path to Folders (adjust if image folder not in Working directory!)\n",
    "folder_pairs = [\n",
    "    ('../ML2Project/Dataset_Original/test/gls', '../ML2Project/Dataset_Original/train/gls'), #source folder1, target folder1\n",
    "    ('../ML2Project/Dataset_Original/test/nlb', '../ML2Project/Dataset_Original/train/nlb'),  #source folder2, target folder2\n",
    "    ('../ML2Project/Dataset_Original/test/nls', '../ML2Project/Dataset_Original/train/nls')   #source folder3, target folder3\n",
    "]\n",
    "\n",
    "def move_every_second_image(source_folder, target_folder):\n",
    "    # Check if the source and target folders exist\n",
    "    if not os.path.exists(source_folder):\n",
    "        print(f\"Source folder '{source_folder}' does not exist.\")\n",
    "        return\n",
    "    \n",
    "    if not os.path.exists(target_folder):\n",
    "        os.makedirs(target_folder)\n",
    "    \n",
    "    # Get a list of files in the source folder\n",
    "    files = sorted(os.listdir(source_folder))\n",
    "    \n",
    "    # Filter out only image files (optional: you can add more extensions if needed)\n",
    "    image_extensions = ('.jpg')\n",
    "    images = [f for f in files if f.lower().endswith(image_extensions)]\n",
    "    \n",
    "    # Move every second image to the target folder\n",
    "    for index, image in enumerate(images):\n",
    "        if index % 2 != 0:  # index is odd (every second image)\n",
    "            source_path = os.path.join(source_folder, image)\n",
    "            target_path = os.path.join(target_folder, image)\n",
    "            shutil.move(source_path, target_path)\n",
    "\n",
    "\n",
    "def count_folder_contents(folder):\n",
    "    return len(os.listdir(folder))\n",
    "\n",
    "def process_folders(folder_pairs):\n",
    "    for source_folder, target_folder in folder_pairs:\n",
    "        print(f\"Processing folder pair: {source_folder} -> {target_folder}\")\n",
    "\n",
    "        before_source_count = count_folder_contents(source_folder)\n",
    "        before_target_count = count_folder_contents(target_folder)\n",
    "        \n",
    "        print(f\"Before: {source_folder} contains {before_source_count} items.\")\n",
    "        print(f\"Before: {target_folder} contains {before_target_count} items.\")\n",
    "        \n",
    "        move_every_second_image(source_folder, target_folder)\n",
    "\n",
    "        after_source_count = count_folder_contents(source_folder)\n",
    "        after_target_count = count_folder_contents(target_folder)\n",
    "\n",
    "        print(f\"After: {source_folder} contains {after_source_count} items.\")\n",
    "        print(f\"After: {target_folder} contains {after_target_count} items.\")\n",
    "        \n",
    "        print(f\"Finished processing folder pair: {source_folder} -> {target_folder}\")\n",
    "\n",
    "\n",
    "process_folders(folder_pairs)"
   ]
  },
  {
   "cell_type": "markdown",
   "metadata": {},
   "source": [
    "After executing the above code, you should get an output similar to the following graphic:\n",
    "\n",
    "<img src=\"ImageLib\\ImageTransfer.png\" alt=\"image\" style=\"width:700px;\"/>\n",
    "\n",
    "If something went wrong, and you have a different output, you can delete the data set at any time and create a new one from the downloaded zip file.\n"
   ]
  }
 ],
 "metadata": {
  "kernelspec": {
   "display_name": ".venv",
   "language": "python",
   "name": "python3"
  },
  "language_info": {
   "codemirror_mode": {
    "name": "ipython",
    "version": 3
   },
   "file_extension": ".py",
   "mimetype": "text/x-python",
   "name": "python",
   "nbconvert_exporter": "python",
   "pygments_lexer": "ipython3",
   "version": "3.10.11"
  }
 },
 "nbformat": 4,
 "nbformat_minor": 2
}
